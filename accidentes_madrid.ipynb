{
 "cells": [
  {
   "cell_type": "markdown",
   "metadata": {},
   "source": [
    "# Datos de accidentes de tráfico en Madrid (2017-2018)\n",
    "\n",
    "**Fuente**: [datos.madrid.es](https://datos.madrid.es/portal/site/egob/menuitem.c05c1f754a33a9fbe4b2e4b284f1a5a0/?vgnextoid=7c2843010d9c3610VgnVCM2000001f4a900aRCRD&vgnextchannel=374512b9ace9f310VgnVCM100000171f5a0aRCRD&vgnextfmt=default)\n",
    "\n",
    "## Descripción\n",
    "\n",
    "Datos en los ficheros:\n",
    "\n",
    "- FECHA: formato dd/mm/aaaa\n",
    "- RANGO HORARIO: rango horario en el que ocurrió el accidente.\n",
    "- DIA SEMANA\n",
    "- DISTRITO\n",
    "- LUGAR ACCIDENTE\n",
    "- Nº: número de la calle (sólo si tiene sentido).\n",
    "- Nº PARTE: identificador del accidente. Si distintos registros tienen el mismo número parte, se trata del mismo accidente donde hay varios afectados.\n",
    "- CPFA Granizo: condiciones ambientales que se dan en el momento del siniestro, granizo.\n",
    "- CPFA Hielo: condiciones ambientales que se dan en el momento del siniestro, hielo.\n",
    "- CPFA Lluvia: condiciones ambientales que se dan en el momento del siniestro, lluvia.\n",
    "- CPFA Niebla: condiciones ambientales que se dan en el momento del siniestro, niebla.\n",
    "- CPFA Seco: condiciones ambientales que se dan en el momento del siniestro, seco.\n",
    "- CPFA Nieve: condiciones ambientales que se dan en el momento del siniestro, nieve.\n",
    "- CPSV Mojada: circunstancias que afectan el estado de la vía en el momento de producirse el siniestro, mojada.\n",
    "- CPSV Aceite: circunstancias que afectan el estado de la vía en el momento de producirse el siniestro, aceite.\n",
    "- CPSV Barro: circunstancias que afectan el estado de la vía en el momento de producirse el siniestro, barro.\n",
    "- CPSV Grava Suelta: circunstancias que afectan el estado de la vía en el momento de producirse el siniestro, grava suelta.\n",
    "- CPSV Hielo: circunstancias que afectan el estado de la vía en el momento de producirse el siniestro, hielo.\n",
    "- CPSV Seca Y Limpia: circunstancias que afectan el estado de la vía en el momento de producirse el siniestro, seca y limpia.\n",
    "- Nº VICTIMAS\n",
    "- TIPO ACCIDENTE: colisión doble, colisión múltiple, choque con objeto fijo, atropello, vuelco, caída motocicleta, caída ciclomotor, caída bicicleta, caída viajero bus.\n",
    "- Tipo Vehiculo\n",
    "- TIPO PERSONA: Conductor, peatón, testigo o viajero.\n",
    "- SEXO: hombre, mujer o no asignado\n",
    "- LESIVIDAD: muerto, herido grave, herido leve, ileso\n",
    "- Tramo Edad"
   ]
  },
  {
   "cell_type": "markdown",
   "metadata": {},
   "source": [
    "### Carga de datos"
   ]
  },
  {
   "cell_type": "code",
   "execution_count": null,
   "metadata": {},
   "outputs": [],
   "source": [
    "import pandas as pd\n",
    "\n",
    "# Se cargan los datos y se renombran todas las columnas\n",
    "new_names = [\n",
    "    'fecha', 'rango_horario', 'dia_semana', 'distrito',\n",
    "    'lugar_accidente', 'num_calle', 'num_parte', 'fa_granizo',\n",
    "    'fa_hielo', 'fa_lluvia', 'fa_niebla', 'fa_seco', 'fa_nieve',\n",
    "    'sv_mojado', 'sv_aceite', 'sv_barro', 'sv_grava_suelta',\n",
    "    'sv_hielo', 'sv_seca_limpia', 'num_victimas', 'tipo_accidente',\n",
    "    'tipo_vehiculo', 'tipo_persona', 'sexo', 'lesividad', 'tramo_edad'\n",
    "]\n",
    "\n",
    "# Datos para 2017\n",
    "df_accidents_2017 = pd.read_excel(\n",
    "    'https://datos.madrid.es/egob/catalogo/300228-1-accidentes-trafico-detalle.xlsx',\n",
    "    skiprows=0, names=new_names\n",
    ")\n",
    "\n",
    "# Datos para 2018\n",
    "df_accidents_2018 = pd.read_excel(\n",
    "    'https://datos.madrid.es/egob/catalogo/300228-0-accidentes-trafico-detalle.xlsx',\n",
    "    skiprows=0, names=new_names\n",
    ")\n",
    "\n",
    "# Unión de datos 2017-2018\n",
    "df_all_accidents = pd.concat([df_accidents_2017, df_accidents_2018], sort=False)"
   ]
  },
  {
   "cell_type": "markdown",
   "metadata": {},
   "source": [
    "#### Víctimas por accidente"
   ]
  },
  {
   "cell_type": "code",
   "execution_count": null,
   "metadata": {},
   "outputs": [],
   "source": [
    "s_num_victims_by_accident = df_all_accidents.groupby(['num_parte'])['num_victimas'].sum()"
   ]
  },
  {
   "cell_type": "markdown",
   "metadata": {},
   "source": [
    "#### Accidentes por distrito y por año"
   ]
  },
  {
   "cell_type": "code",
   "execution_count": null,
   "metadata": {},
   "outputs": [],
   "source": [
    "df_accidents_by_district = pd.pivot_table(\n",
    "    df_all_accidents, index=['distrito'], columns=[df_all_accidents['fecha'].dt.year],\n",
    "    aggfunc=pd.Series.nunique, values='num_parte'\n",
    ")\n",
    "\n",
    "# Se verifica que el resultado es correcto\n",
    "if not df_accidents_by_district[2017].sum() == df_accidents_2017['num_parte'].nunique():\n",
    "    raise Exception(\"Error para el año 2017\")\n",
    "if not df_accidents_by_district[2018].sum() == df_accidents_2018['num_parte'].nunique():\n",
    "    raise Exception(\"Error para el año 2018\")"
   ]
  },
  {
   "cell_type": "markdown",
   "metadata": {},
   "source": [
    "#### Accidentes sin factores climáticos desfavorables"
   ]
  },
  {
   "cell_type": "code",
   "execution_count": null,
   "metadata": {},
   "outputs": [],
   "source": [
    "df_best_weather = df_all_accidents[\n",
    "    (df_all_accidents['sv_seca_limpia'] == 'SI') & (df_all_accidents['fa_seco'] == 'SI')\n",
    "]"
   ]
  },
  {
   "cell_type": "markdown",
   "metadata": {},
   "source": [
    "####  Accidentes ocurridos en días de semana"
   ]
  },
  {
   "cell_type": "code",
   "execution_count": null,
   "metadata": {},
   "outputs": [],
   "source": [
    "weekdays = ['LUNES', 'MARTES', 'MIERCOLES', 'JUEVES', 'VIERNES']\n",
    "\n",
    "df_accidents_on_weekdays = df_all_accidents[df_all_accidents['dia_semana'].isin(weekdays)]"
   ]
  }
 ],
 "metadata": {
  "kernelspec": {
   "display_name": "Python 3",
   "language": "python",
   "name": "python3"
  },
  "language_info": {
   "codemirror_mode": {
    "name": "ipython",
    "version": 3
   },
   "file_extension": ".py",
   "mimetype": "text/x-python",
   "name": "python",
   "nbconvert_exporter": "python",
   "pygments_lexer": "ipython3",
   "version": "3.6.7"
  }
 },
 "nbformat": 4,
 "nbformat_minor": 2
}
